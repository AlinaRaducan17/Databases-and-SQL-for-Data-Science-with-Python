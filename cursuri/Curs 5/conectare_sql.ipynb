{
 "cells": [
  {
   "cell_type": "code",
   "execution_count": 12,
   "metadata": {},
   "outputs": [],
   "source": [
    "import mysql.connector"
   ]
  },
  {
   "cell_type": "code",
   "execution_count": 13,
   "metadata": {},
   "outputs": [],
   "source": [
    "# Connect to server\n",
    "cnx = mysql.connector.connect(\n",
    "    host=\"127.0.0.1\",\n",
    "    port=3306,\n",
    "    user=\"root\",\n",
    "    password=\"Poli@FSA1782\")"
   ]
  },
  {
   "cell_type": "code",
   "execution_count": 14,
   "metadata": {},
   "outputs": [],
   "source": [
    "# Get a cursor\n",
    "cur = cnx.cursor()"
   ]
  },
  {
   "cell_type": "code",
   "execution_count": 15,
   "metadata": {},
   "outputs": [],
   "source": [
    "# Execute a query\n",
    "cur.execute(\"SHOW DATABASES\")"
   ]
  },
  {
   "cell_type": "code",
   "execution_count": 17,
   "metadata": {},
   "outputs": [
    {
     "name": "stdout",
     "output_type": "stream",
     "text": [
      "('angajati',)\n",
      "('baza_de_date_4',)\n",
      "('facultate',)\n",
      "('geografie',)\n",
      "('information_schema',)\n",
      "('library',)\n",
      "('movies',)\n",
      "('mydb',)\n",
      "('mysql',)\n",
      "('online_store',)\n",
      "('performance_schema',)\n",
      "('personal',)\n",
      "('prima_baza_de_date',)\n",
      "('python_created_db',)\n",
      "('sys',)\n",
      "('universitate',)\n",
      "('vremea',)\n"
     ]
    }
   ],
   "source": [
    "for db in cur:\n",
    "    print(db)"
   ]
  },
  {
   "cell_type": "code",
   "execution_count": 18,
   "metadata": {},
   "outputs": [],
   "source": [
    "cur.execute('USE universitate')"
   ]
  },
  {
   "cell_type": "code",
   "execution_count": 20,
   "metadata": {},
   "outputs": [],
   "source": [
    "cur.execute('INSERT INTO profesor SET nume = \"Guido\", prenume = \"Van Rossum\", data_nasterii =\"1965-01-31\", adresa=1')"
   ]
  },
  {
   "cell_type": "code",
   "execution_count": 21,
   "metadata": {},
   "outputs": [
    {
     "name": "stdout",
     "output_type": "stream",
     "text": [
      "(1, 'Popescu', 'Gica', 1, datetime.date(1964, 2, 1), 'I')\n",
      "(2, 'Marin', 'Andreea', 1, datetime.date(1989, 12, 30), 'II')\n",
      "(3, 'Florescu', 'Ioan', 1, datetime.date(1989, 1, 30), 'II')\n",
      "(4, 'Ionescu', 'Florina', 1, datetime.date(1989, 11, 19), 'III')\n",
      "(6, 'Baturalp', 'Ece', 1, datetime.date(1968, 1, 7), 'I')\n",
      "(7, 'Hagele', 'Kate', 1, datetime.date(1985, 4, 14), 'I')\n",
      "(8, 'Vernekar', 'Baljiwan', 1, datetime.date(1948, 3, 7), 'I')\n",
      "(9, 'Wilson', 'Isabella', 1, datetime.date(1988, 5, 13), 'I')\n",
      "(10, 'Yanovich', 'Ievfrosiniya', 1, datetime.date(1950, 12, 30), 'I')\n",
      "(11, 'da Rocha', 'Acilino', 1, datetime.date(1946, 5, 23), 'I')\n",
      "(12, 'Hieber', 'Margrit', 1, datetime.date(2000, 7, 12), 'I')\n",
      "(13, 'Macdonald', 'Brielle', 1, datetime.date(1984, 12, 20), 'I')\n",
      "(14, 'Rajala', 'Matilda', 1, datetime.date(1961, 8, 13), 'I')\n",
      "(15, 'Nielsen', 'Freja', 1, datetime.date(1994, 6, 14), 'I')\n",
      "(17, 'Guido', 'Van Rossum', 1, datetime.date(1965, 1, 31), 'I')\n"
     ]
    }
   ],
   "source": [
    "cur.execute(\"SELECT * FROM profesor\")\n",
    "for prof in cur:\n",
    "    print(prof)"
   ]
  },
  {
   "cell_type": "code",
   "execution_count": 22,
   "metadata": {},
   "outputs": [],
   "source": [
    "cnx.commit()"
   ]
  },
  {
   "cell_type": "code",
   "execution_count": 23,
   "metadata": {},
   "outputs": [],
   "source": [
    "# Close connection\n",
    "cur.close()\n",
    "cnx.close()"
   ]
  }
 ],
 "metadata": {
  "kernelspec": {
   "display_name": "Python 3",
   "language": "python",
   "name": "python3"
  },
  "language_info": {
   "codemirror_mode": {
    "name": "ipython",
    "version": 3
   },
   "file_extension": ".py",
   "mimetype": "text/x-python",
   "name": "python",
   "nbconvert_exporter": "python",
   "pygments_lexer": "ipython3",
   "version": "3.11.9"
  }
 },
 "nbformat": 4,
 "nbformat_minor": 2
}
