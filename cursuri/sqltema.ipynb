{
 "cells": [
  {
   "cell_type": "code",
   "execution_count": 37,
   "id": "8cb2dbd7",
   "metadata": {},
   "outputs": [],
   "source": [
    "import mysql.connector\n",
    "import pandas as pd\n",
    "import seaborn as sns\n",
    "import matplotlib.pyplot as plt"
   ]
  },
  {
   "cell_type": "code",
   "execution_count": 45,
   "id": "11cde8d3",
   "metadata": {},
   "outputs": [],
   "source": [
    "cnx = mysql.connector.connect(\n",
    "    host=\"127.0.0.1\",\n",
    "    port=3306,\n",
    "    user=\"root\",\n",
    "    password=\"Poli@FSA1782\")\n",
    "cur = cnx.cursor()"
   ]
  },
  {
   "cell_type": "code",
   "execution_count": 52,
   "id": "90c2a5ea",
   "metadata": {},
   "outputs": [
    {
     "name": "stdout",
     "output_type": "stream",
     "text": [
      "('angajati',)\n",
      "('baza_de_date_4',)\n",
      "('db_privilegii',)\n",
      "('facultate',)\n",
      "('firma',)\n",
      "('geografie',)\n",
      "('information_schema',)\n",
      "('library',)\n",
      "('magazin_online',)\n",
      "('movies',)\n",
      "('mydb',)\n",
      "('mysql',)\n",
      "('online_store',)\n",
      "('performance_schema',)\n",
      "('personal',)\n",
      "('prima_baza_de_date',)\n",
      "('python_created_db',)\n",
      "('social_media',)\n",
      "('sys',)\n",
      "('universitate',)\n",
      "('vremea',)\n"
     ]
    }
   ],
   "source": [
    "cur.execute(\"SHOW DATABASES\")\n",
    "for db in cur:\n",
    "    print(db)"
   ]
  },
  {
   "cell_type": "code",
   "execution_count": 58,
   "id": "04931b94",
   "metadata": {},
   "outputs": [
    {
     "name": "stdout",
     "output_type": "stream",
     "text": [
      "Connection to database is created.\n"
     ]
    }
   ],
   "source": [
    "if(cnx == None):\n",
    "  print(\"There is no connection to database.\")\n",
    "else:\n",
    "  print(\"Connection to database is created.\")"
   ]
  },
  {
   "cell_type": "code",
   "execution_count": 63,
   "id": "b93ffc2f",
   "metadata": {},
   "outputs": [],
   "source": [
    "cur.execute('USE movies')"
   ]
  },
  {
   "cell_type": "code",
   "execution_count": 67,
   "id": "5ae39674",
   "metadata": {},
   "outputs": [],
   "source": [
    "query = \"\"\"SELECT genre.name_genre, movie.buget  FROM movie\n",
    "JOIN movie_genre ON movie.id_movie = movie_genre.id_movie\n",
    "JOIN genre ON movie_genre.id_genre = genre.id_genre;\"\"\""
   ]
  },
  {
   "cell_type": "code",
   "execution_count": 97,
   "id": "c9467ad4",
   "metadata": {},
   "outputs": [
    {
     "name": "stdout",
     "output_type": "stream",
     "text": [
      "   name_genre        buget\n",
      "0      Action  460000000.0\n",
      "1   Adventure  460000000.0\n",
      "2          SF  460000000.0\n",
      "3      Action  200000000.0\n",
      "4   Adventure  200000000.0\n",
      "5     Fantasy  145000000.0\n",
      "6      Comedy  145000000.0\n",
      "7      Action  170000000.0\n",
      "8       Drama  170000000.0\n",
      "9      Action   15000000.0\n",
      "10  Animation   15000000.0\n",
      "11     Action  185000000.0\n",
      "12      Drama  185000000.0\n",
      "13      Crime  185000000.0\n",
      "14      Drama  100000000.0\n"
     ]
    },
    {
     "name": "stderr",
     "output_type": "stream",
     "text": [
      "C:\\Users\\alina\\AppData\\Local\\Temp\\ipykernel_15496\\937686811.py:1: UserWarning: pandas only supports SQLAlchemy connectable (engine/connection) or database string URI or sqlite3 DBAPI2 connection. Other DBAPI2 objects are not tested. Please consider using SQLAlchemy.\n",
      "  df = pd.read_sql_query(query, cnx)\n"
     ]
    }
   ],
   "source": [
    "\n",
    "df = pd.read_sql_query(query, cnx)\n",
    "print(df)\n",
    "\n"
   ]
  },
  {
   "cell_type": "code",
   "execution_count": 98,
   "id": "b3553877",
   "metadata": {},
   "outputs": [
    {
     "name": "stdout",
     "output_type": "stream",
     "text": [
      "Index(['name_genre', 'buget'], dtype='object')\n"
     ]
    }
   ],
   "source": [
    "print(df.columns)"
   ]
  },
  {
   "cell_type": "code",
   "execution_count": 99,
   "id": "24765d65",
   "metadata": {},
   "outputs": [
    {
     "name": "stdout",
     "output_type": "stream",
     "text": [
      "name_genre\n",
      "Action       2.060000e+08\n",
      "Adventure    3.300000e+08\n",
      "Animation    1.500000e+07\n",
      "Comedy       1.450000e+08\n",
      "Crime        1.850000e+08\n",
      "Drama        1.516667e+08\n",
      "Fantasy      1.450000e+08\n",
      "SF           4.600000e+08\n",
      "Name: buget, dtype: float64\n"
     ]
    }
   ],
   "source": [
    "df_buget_genre = df.groupby('name_genre')['buget'].mean()\n",
    "print(df_buget_genre)"
   ]
  },
  {
   "cell_type": "code",
   "execution_count": 100,
   "id": "1547ee21",
   "metadata": {},
   "outputs": [
    {
     "name": "stdout",
     "output_type": "stream",
     "text": [
      "              buget\n",
      "count  1.500000e+01\n",
      "mean   2.063333e+08\n",
      "std    1.437193e+08\n",
      "min    1.500000e+07\n",
      "25%    1.450000e+08\n",
      "50%    1.850000e+08\n",
      "75%    2.000000e+08\n",
      "max    4.600000e+08\n"
     ]
    }
   ],
   "source": [
    "print(df.describe())"
   ]
  },
  {
   "cell_type": "code",
   "execution_count": 101,
   "id": "70cdc32a",
   "metadata": {},
   "outputs": [
    {
     "name": "stdout",
     "output_type": "stream",
     "text": [
      "   id_movie                                              title        buget\n",
      "0         1                           Avatar: The Way of Water  460000000.0\n",
      "1         2                            Spider-Man: No Way Home  200000000.0\n",
      "2         3                                             Barbie  145000000.0\n",
      "3         4                                  Top Gun: Maverick  170000000.0\n",
      "4         6  Demon Slayer: Kimetsu no Yaiba - The Movie: Mu...   15000000.0\n"
     ]
    },
    {
     "name": "stderr",
     "output_type": "stream",
     "text": [
      "C:\\Users\\alina\\AppData\\Local\\Temp\\ipykernel_15496\\3640309214.py:2: UserWarning: pandas only supports SQLAlchemy connectable (engine/connection) or database string URI or sqlite3 DBAPI2 connection. Other DBAPI2 objects are not tested. Please consider using SQLAlchemy.\n",
      "  df_movie = pd.read_sql(query_2, cnx)\n"
     ]
    }
   ],
   "source": [
    "query_2 = \"SELECT id_movie, title, buget FROM movie\"\n",
    "df_movie = pd.read_sql(query_2, cnx)\n",
    " # Displaying the first 5 rows of data\n",
    "print(df_movie.head())\n",
    "\n",
    "df_grouped = df_movie.groupby(\"buget\")[\"id_movie\"].count()\n"
   ]
  },
  {
   "cell_type": "code",
   "execution_count": 104,
   "id": "c01c4cce",
   "metadata": {},
   "outputs": [
    {
     "name": "stderr",
     "output_type": "stream",
     "text": [
      "C:\\Users\\alina\\AppData\\Local\\Temp\\ipykernel_15496\\2097328211.py:2: FutureWarning: \n",
      "\n",
      "Passing `palette` without assigning `hue` is deprecated and will be removed in v0.14.0. Assign the `x` variable to `hue` and set `legend=False` for the same effect.\n",
      "\n",
      "  sns.barplot(x=df_buget_genre.index, y=df_buget_genre.values, palette=\"viridis\")\n"
     ]
    },
    {
     "data": {
      "image/png": "[encoded data removed]",
      "text/plain": [
       "<Figure size 1000x600 with 1 Axes>"
      ]
     },
     "metadata": {},
     "output_type": "display_data"
    }
   ],
   "source": [
    "plt.figure(figsize=(10, 6))\n",
    "sns.barplot(x=df_buget_genre.index, y=df_buget_genre.values, palette=\"viridis\")\n",
    "plt.title('Bugetul Mediu al Filmelor pe Gen')\n",
    "plt.xlabel('Gen')\n",
    "plt.ylabel('Buget Mediu')\n",
    "plt.xticks(rotation=45)\n",
    "\n",
    "# Rotating labels if there are many\n",
    "plt.show()"
   ]
  }
 ],
 "metadata": {
  "kernelspec": {
   "display_name": "Python 3",
   "language": "python",
   "name": "python3"
  },
  "language_info": {
   "codemirror_mode": {
    "name": "ipython",
    "version": 3
   },
   "file_extension": ".py",
   "mimetype": "text/x-python",
   "name": "python",
   "nbconvert_exporter": "python",
   "pygments_lexer": "ipython3",
   "version": "3.11.9"
  }
 },
 "nbformat": 4,
 "nbformat_minor": 5
}
